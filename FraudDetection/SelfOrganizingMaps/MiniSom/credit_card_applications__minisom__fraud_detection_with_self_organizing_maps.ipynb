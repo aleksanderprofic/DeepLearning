{
  "nbformat": 4,
  "nbformat_minor": 0,
  "metadata": {
    "colab": {
      "name": "credit_card_applications__minisom__fraud_detection_with_self_organizing_maps.ipynb",
      "provenance": [],
      "collapsed_sections": [],
      "toc_visible": true,
      "include_colab_link": true
    },
    "kernelspec": {
      "name": "python3",
      "display_name": "Python 3"
    }
  },
  "cells": [
    {
      "cell_type": "markdown",
      "metadata": {
        "id": "view-in-github",
        "colab_type": "text"
      },
      "source": [
        "<a href=\"https://colab.research.google.com/github/aleksanderprofic/DeepLearning/blob/main/FraudDetection/SelfOrganizingMaps/MiniSom/credit_card_applications__minisom__fraud_detection_with_self_organizing_maps.ipynb\" target=\"_parent\"><img src=\"https://colab.research.google.com/assets/colab-badge.svg\" alt=\"Open In Colab\"/></a>"
      ]
    },
    {
      "cell_type": "markdown",
      "metadata": {
        "id": "t9oX7AL3nyLm"
      },
      "source": [
        "#Self Organizing Map"
      ]
    },
    {
      "cell_type": "markdown",
      "metadata": {
        "id": "r9maNhdd65pB"
      },
      "source": [
        "##Install MiniSom Package"
      ]
    },
    {
      "cell_type": "code",
      "metadata": {
        "id": "1KB28WUso0Bj",
        "colab": {
          "base_uri": "https://localhost:8080/"
        },
        "outputId": "26ec25b4-b6dc-4b31-fff0-c76cb4bff42a"
      },
      "source": [
        "!pip install MiniSom"
      ],
      "execution_count": 98,
      "outputs": [
        {
          "output_type": "stream",
          "text": [
            "Requirement already satisfied: MiniSom in /usr/local/lib/python3.7/dist-packages (2.2.8)\n"
          ],
          "name": "stdout"
        }
      ]
    },
    {
      "cell_type": "markdown",
      "metadata": {
        "id": "6AX0Y23PnyOI"
      },
      "source": [
        "### Importing the libraries\n"
      ]
    },
    {
      "cell_type": "code",
      "metadata": {
        "id": "gaSkOFKKBB3b"
      },
      "source": [
        "import numpy as np\n",
        "import pandas as pd\n",
        "import matplotlib.pyplot as plt"
      ],
      "execution_count": 99,
      "outputs": []
    },
    {
      "cell_type": "markdown",
      "metadata": {
        "id": "SCl7ERn_n539"
      },
      "source": [
        "## Importing the dataset"
      ]
    },
    {
      "cell_type": "code",
      "metadata": {
        "id": "4hgeaN3CoRfl"
      },
      "source": [
        "dataset = pd.read_csv('Credit_Card_Applications.csv')\n",
        "X = dataset.iloc[:, :-1].values\n",
        "y = dataset.iloc[:, -1].values"
      ],
      "execution_count": 100,
      "outputs": []
    },
    {
      "cell_type": "markdown",
      "metadata": {
        "id": "fYHJ0dd6n-d4"
      },
      "source": [
        "## Feature Scaling\n"
      ]
    },
    {
      "cell_type": "code",
      "metadata": {
        "id": "WsT48Zr8LmLt"
      },
      "source": [
        "from sklearn.preprocessing import MinMaxScaler\n",
        "\n",
        "sc = MinMaxScaler(feature_range=(0, 1))\n",
        "X = sc.fit_transform(X)"
      ],
      "execution_count": 101,
      "outputs": []
    },
    {
      "cell_type": "markdown",
      "metadata": {
        "id": "aPp-7wfNoAhR"
      },
      "source": [
        "##Training the SOM\n"
      ]
    },
    {
      "cell_type": "code",
      "metadata": {
        "colab": {
          "base_uri": "https://localhost:8080/"
        },
        "id": "GnvkQa7YMGLw",
        "outputId": "38633252-62d5-4bca-ea21-ab5e34764e47"
      },
      "source": [
        "from minisom import MiniSom\n",
        "\n",
        "som = MiniSom(x=10, y=10, input_len=X.shape[1], sigma=1.0, learning_rate=0.1)\n",
        "som.random_weights_init(data=X)\n",
        "som.train_random(data=X, num_iteration=100, verbose=True)"
      ],
      "execution_count": 102,
      "outputs": [
        {
          "output_type": "stream",
          "text": [
            "\r [   0 / 100 ]   0% - ? it/s\r [   0 / 100 ]   0% - ? it/s\r [   1 / 100 ]   1% - 0:00:00 left \r [   2 / 100 ]   2% - 0:00:00 left \r [   3 / 100 ]   3% - 0:00:00 left \r [   4 / 100 ]   4% - 0:00:00 left \r [   5 / 100 ]   5% - 0:00:00 left \r [   6 / 100 ]   6% - 0:00:00 left \r [   7 / 100 ]   7% - 0:00:00 left \r [   8 / 100 ]   8% - 0:00:00 left \r [   9 / 100 ]   9% - 0:00:00 left \r [  10 / 100 ]  10% - 0:00:00 left \r [  11 / 100 ]  11% - 0:00:00 left \r [  12 / 100 ]  12% - 0:00:00 left \r [  13 / 100 ]  13% - 0:00:00 left \r [  14 / 100 ]  14% - 0:00:00 left \r [  15 / 100 ]  15% - 0:00:00 left \r [  16 / 100 ]  16% - 0:00:00 left \r [  17 / 100 ]  17% - 0:00:00 left \r [  18 / 100 ]  18% - 0:00:00 left \r [  19 / 100 ]  19% - 0:00:00 left \r [  20 / 100 ]  20% - 0:00:00 left \r [  21 / 100 ]  21% - 0:00:00 left \r [  22 / 100 ]  22% - 0:00:00 left \r [  23 / 100 ]  23% - 0:00:00 left \r [  24 / 100 ]  24% - 0:00:00 left \r [  25 / 100 ]  25% - 0:00:00 left \r [  26 / 100 ]  26% - 0:00:00 left \r [  27 / 100 ]  27% - 0:00:00 left \r [  28 / 100 ]  28% - 0:00:00 left \r [  29 / 100 ]  29% - 0:00:00 left \r [  30 / 100 ]  30% - 0:00:00 left \r [  31 / 100 ]  31% - 0:00:00 left \r [  32 / 100 ]  32% - 0:00:00 left \r [  33 / 100 ]  33% - 0:00:00 left \r [  34 / 100 ]  34% - 0:00:00 left \r [  35 / 100 ]  35% - 0:00:00 left \r [  36 / 100 ]  36% - 0:00:00 left \r [  37 / 100 ]  37% - 0:00:00 left \r [  38 / 100 ]  38% - 0:00:00 left \r [  39 / 100 ]  39% - 0:00:00 left \r [  40 / 100 ]  40% - 0:00:00 left \r [  41 / 100 ]  41% - 0:00:00 left \r [  42 / 100 ]  42% - 0:00:00 left \r [  43 / 100 ]  43% - 0:00:00 left \r [  44 / 100 ]  44% - 0:00:00 left \r [  45 / 100 ]  45% - 0:00:00 left \r [  46 / 100 ]  46% - 0:00:00 left \r [  47 / 100 ]  47% - 0:00:00 left \r [  48 / 100 ]  48% - 0:00:00 left \r [  49 / 100 ]  49% - 0:00:00 left \r [  50 / 100 ]  50% - 0:00:00 left \r [  51 / 100 ]  51% - 0:00:00 left \r [  52 / 100 ]  52% - 0:00:00 left \r [  53 / 100 ]  53% - 0:00:00 left \r [  54 / 100 ]  54% - 0:00:00 left \r [  55 / 100 ]  55% - 0:00:00 left \r [  56 / 100 ]  56% - 0:00:00 left \r [  57 / 100 ]  57% - 0:00:00 left \r [  58 / 100 ]  58% - 0:00:00 left \r [  59 / 100 ]  59% - 0:00:00 left \r [  60 / 100 ]  60% - 0:00:00 left \r [  61 / 100 ]  61% - 0:00:00 left \r [  62 / 100 ]  62% - 0:00:00 left \r [  63 / 100 ]  63% - 0:00:00 left \r [  64 / 100 ]  64% - 0:00:00 left \r [  65 / 100 ]  65% - 0:00:00 left \r [  66 / 100 ]  66% - 0:00:00 left \r [  67 / 100 ]  67% - 0:00:00 left \r [  68 / 100 ]  68% - 0:00:00 left \r [  69 / 100 ]  69% - 0:00:00 left \r [  70 / 100 ]  70% - 0:00:00 left \r [  71 / 100 ]  71% - 0:00:00 left \r [  72 / 100 ]  72% - 0:00:00 left \r [  73 / 100 ]  73% - 0:00:00 left \r [  74 / 100 ]  74% - 0:00:00 left \r [  75 / 100 ]  75% - 0:00:00 left \r [  76 / 100 ]  76% - 0:00:00 left \r [  77 / 100 ]  77% - 0:00:00 left \r [  78 / 100 ]  78% - 0:00:00 left \r [  79 / 100 ]  79% - 0:00:00 left \r [  80 / 100 ]  80% - 0:00:00 left \r [  81 / 100 ]  81% - 0:00:00 left \r [  82 / 100 ]  82% - 0:00:00 left \r [  83 / 100 ]  83% - 0:00:00 left \r [  84 / 100 ]  84% - 0:00:00 left \r [  85 / 100 ]  85% - 0:00:00 left \r [  86 / 100 ]  86% - 0:00:00 left \r [  87 / 100 ]  87% - 0:00:00 left \r [  88 / 100 ]  88% - 0:00:00 left \r [  89 / 100 ]  89% - 0:00:00 left \r [  90 / 100 ]  90% - 0:00:00 left \r [  91 / 100 ]  91% - 0:00:00 left \r [  92 / 100 ]  92% - 0:00:00 left \r [  93 / 100 ]  93% - 0:00:00 left \r [  94 / 100 ]  94% - 0:00:00 left \r [  95 / 100 ]  95% - 0:00:00 left \r [  96 / 100 ]  96% - 0:00:00 left \r [  97 / 100 ]  97% - 0:00:00 left \r [  98 / 100 ]  98% - 0:00:00 left \r [  99 / 100 ]  99% - 0:00:00 left \r [ 100 / 100 ] 100% - 0:00:00 left \n",
            " quantization error: 0.4924202973472867\n"
          ],
          "name": "stdout"
        }
      ]
    },
    {
      "cell_type": "markdown",
      "metadata": {
        "id": "YiU27C-ToCnH"
      },
      "source": [
        "##Visualizing the results\n"
      ]
    },
    {
      "cell_type": "code",
      "metadata": {
        "colab": {
          "base_uri": "https://localhost:8080/",
          "height": 269
        },
        "id": "XzqqgfNQPPYU",
        "outputId": "f6fb34f1-0eaa-4e4a-b195-015af3c7e99a"
      },
      "source": [
        "from pylab import bone, pcolor, colorbar, plot\n",
        "\n",
        "bone()\n",
        "pcolor(som.distance_map().T)\n",
        "colorbar()\n",
        "\n",
        "markers = ['o', 's']\n",
        "colors = ['r', 'g']\n",
        "\n",
        "for i, x in enumerate(X):\n",
        "    winning_node = som.winner(x)\n",
        "    plot(winning_node[0] + 0.5, winning_node[1] + 0.5, marker=markers[y[i]], markeredgecolor=colors[y[i]], \n",
        "         markerfacecolor='None', markersize=10, markeredgewidth=2)"
      ],
      "execution_count": 103,
      "outputs": [
        {
          "output_type": "display_data",
          "data": {
            "image/png": "[encoded data removed]",
            "text/plain": [
              "<Figure size 432x288 with 2 Axes>"
            ]
          },
          "metadata": {
            "tags": [],
            "needs_background": "light"
          }
        }
      ]
    },
    {
      "cell_type": "markdown",
      "metadata": {
        "id": "80S9H_YQWnR2"
      },
      "source": [
        "Potential frauds have coordinates: (3, 3), (4, 7) and (8,7)"
      ]
    },
    {
      "cell_type": "markdown",
      "metadata": {
        "id": "4C-I_jBfoEkP"
      },
      "source": [
        "## Finding the frauds\n"
      ]
    },
    {
      "cell_type": "code",
      "metadata": {
        "id": "-4XaCRS6U2EQ"
      },
      "source": [
        "mappings = som.win_map(X)\n",
        "frauds = np.concatenate([mappings[(3,3)], mappings[(4,7)], mappings[(8,7)]], axis=0)\n",
        "frauds = sc.inverse_transform(frauds)"
      ],
      "execution_count": 107,
      "outputs": []
    },
    {
      "cell_type": "markdown",
      "metadata": {
        "id": "frXqAlpo84b1"
      },
      "source": [
        "##Printing the Fraunch Clients"
      ]
    },
    {
      "cell_type": "code",
      "metadata": {
        "colab": {
          "base_uri": "https://localhost:8080/"
        },
        "id": "l7T-VXBZYWUQ",
        "outputId": "0e7aa743-bb85-4303-9589-fe6b9597f262"
      },
      "source": [
        "print(\"Fraud Customer IDs: \", frauds[:, 0].astype(int).tolist())"
      ],
      "execution_count": 108,
      "outputs": [
        {
          "output_type": "stream",
          "text": [
            "Fraud Customer IDs:  [15590434, 15646190, 15799785, 15757434, 15673907]\n"
          ],
          "name": "stdout"
        }
      ]
    }
  ]
}