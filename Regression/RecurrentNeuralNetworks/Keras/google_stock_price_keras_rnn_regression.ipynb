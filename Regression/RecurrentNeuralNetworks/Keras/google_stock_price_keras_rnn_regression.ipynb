{
  "nbformat": 4,
  "nbformat_minor": 0,
  "metadata": {
    "colab": {
      "name": "google_stock_price_keras_rnn_regression.ipynb",
      "provenance": [],
      "collapsed_sections": [],
      "toc_visible": true,
      "include_colab_link": true
    },
    "kernelspec": {
      "name": "python3",
      "display_name": "Python 3"
    }
  },
  "cells": [
    {
      "cell_type": "markdown",
      "metadata": {
        "id": "view-in-github",
        "colab_type": "text"
      },
      "source": [
        "<a href=\"https://colab.research.google.com/github/aleksanderprofic/DeepLearning/blob/main/Regression/RecurrentNeuralNetworks/Keras/google_stock_price_keras_rnn_regression.ipynb\" target=\"_parent\"><img src=\"https://colab.research.google.com/assets/colab-badge.svg\" alt=\"Open In Colab\"/></a>"
      ]
    },
    {
      "cell_type": "markdown",
      "metadata": {
        "id": "xpAuMVCwfWs8"
      },
      "source": [
        "# Recurrent Neural Network"
      ]
    },
    {
      "cell_type": "markdown",
      "metadata": {
        "id": "nxJfRe4bfYVA"
      },
      "source": [
        "## Data Preprocessing"
      ]
    },
    {
      "cell_type": "markdown",
      "metadata": {
        "id": "ir9zwETrfbrp"
      },
      "source": [
        "### Importing the libraries"
      ]
    },
    {
      "cell_type": "code",
      "metadata": {
        "id": "Ecx5cgynYPY_"
      },
      "source": [
        "import pandas as pd\n",
        "import matplotlib.pyplot as plt\n",
        "import numpy as np"
      ],
      "execution_count": 1,
      "outputs": []
    },
    {
      "cell_type": "markdown",
      "metadata": {
        "id": "nQ47JAxrgmaL"
      },
      "source": [
        "### Importing the training set"
      ]
    },
    {
      "cell_type": "code",
      "metadata": {
        "colab": {
          "base_uri": "https://localhost:8080/",
          "height": 206
        },
        "id": "9RJ_3aGUYTP4",
        "outputId": "8de678c4-02c9-4c97-d65c-38a883c3cbb9"
      },
      "source": [
        "training_df = pd.read_csv(\"Google_Stock_Price_Train.csv\")\n",
        "training_df.head()"
      ],
      "execution_count": 2,
      "outputs": [
        {
          "output_type": "execute_result",
          "data": {
            "text/html": [
              "<div>\n",
              "<style scoped>\n",
              "    .dataframe tbody tr th:only-of-type {\n",
              "        vertical-align: middle;\n",
              "    }\n",
              "\n",
              "    .dataframe tbody tr th {\n",
              "        vertical-align: top;\n",
              "    }\n",
              "\n",
              "    .dataframe thead th {\n",
              "        text-align: right;\n",
              "    }\n",
              "</style>\n",
              "<table border=\"1\" class=\"dataframe\">\n",
              "  <thead>\n",
              "    <tr style=\"text-align: right;\">\n",
              "      <th></th>\n",
              "      <th>Date</th>\n",
              "      <th>Open</th>\n",
              "      <th>High</th>\n",
              "      <th>Low</th>\n",
              "      <th>Close</th>\n",
              "      <th>Volume</th>\n",
              "    </tr>\n",
              "  </thead>\n",
              "  <tbody>\n",
              "    <tr>\n",
              "      <th>0</th>\n",
              "      <td>1/3/2012</td>\n",
              "      <td>325.25</td>\n",
              "      <td>332.83</td>\n",
              "      <td>324.97</td>\n",
              "      <td>663.59</td>\n",
              "      <td>7,380,500</td>\n",
              "    </tr>\n",
              "    <tr>\n",
              "      <th>1</th>\n",
              "      <td>1/4/2012</td>\n",
              "      <td>331.27</td>\n",
              "      <td>333.87</td>\n",
              "      <td>329.08</td>\n",
              "      <td>666.45</td>\n",
              "      <td>5,749,400</td>\n",
              "    </tr>\n",
              "    <tr>\n",
              "      <th>2</th>\n",
              "      <td>1/5/2012</td>\n",
              "      <td>329.83</td>\n",
              "      <td>330.75</td>\n",
              "      <td>326.89</td>\n",
              "      <td>657.21</td>\n",
              "      <td>6,590,300</td>\n",
              "    </tr>\n",
              "    <tr>\n",
              "      <th>3</th>\n",
              "      <td>1/6/2012</td>\n",
              "      <td>328.34</td>\n",
              "      <td>328.77</td>\n",
              "      <td>323.68</td>\n",
              "      <td>648.24</td>\n",
              "      <td>5,405,900</td>\n",
              "    </tr>\n",
              "    <tr>\n",
              "      <th>4</th>\n",
              "      <td>1/9/2012</td>\n",
              "      <td>322.04</td>\n",
              "      <td>322.29</td>\n",
              "      <td>309.46</td>\n",
              "      <td>620.76</td>\n",
              "      <td>11,688,800</td>\n",
              "    </tr>\n",
              "  </tbody>\n",
              "</table>\n",
              "</div>"
            ],
            "text/plain": [
              "       Date    Open    High     Low   Close      Volume\n",
              "0  1/3/2012  325.25  332.83  324.97  663.59   7,380,500\n",
              "1  1/4/2012  331.27  333.87  329.08  666.45   5,749,400\n",
              "2  1/5/2012  329.83  330.75  326.89  657.21   6,590,300\n",
              "3  1/6/2012  328.34  328.77  323.68  648.24   5,405,900\n",
              "4  1/9/2012  322.04  322.29  309.46  620.76  11,688,800"
            ]
          },
          "metadata": {
            "tags": []
          },
          "execution_count": 2
        }
      ]
    },
    {
      "cell_type": "markdown",
      "metadata": {
        "id": "HT8_2UJegtG5"
      },
      "source": [
        "### Feature Scaling"
      ]
    },
    {
      "cell_type": "code",
      "metadata": {
        "id": "npN4JGT-Yd55"
      },
      "source": [
        "from sklearn.preprocessing import MinMaxScaler\n",
        "\n",
        "X_train = training_df['Open'].values.reshape(-1, 1)\n",
        "\n",
        "scaler = MinMaxScaler()\n",
        "X_train = scaler.fit_transform(X_train)"
      ],
      "execution_count": 3,
      "outputs": []
    },
    {
      "cell_type": "markdown",
      "metadata": {
        "id": "JyYgYocqhNUg"
      },
      "source": [
        "### Creating a data structure with 60 timesteps and 1 output"
      ]
    },
    {
      "cell_type": "code",
      "metadata": {
        "id": "iNZXops5cIG9"
      },
      "source": [
        "enriched_X_train = []\n",
        "y_train = []\n",
        "\n",
        "for i in range(60, len(X_train)):\n",
        "    enriched_X_train.append(X_train[i-60:i])\n",
        "    y_train.append(X_train[i])\n",
        "\n",
        "enriched_X_train = np.array(enriched_X_train)\n",
        "y_train = np.array(y_train)"
      ],
      "execution_count": 4,
      "outputs": []
    },
    {
      "cell_type": "markdown",
      "metadata": {
        "id": "D8yaN7Zvi95l"
      },
      "source": [
        "### Reshaping"
      ]
    },
    {
      "cell_type": "markdown",
      "metadata": {
        "id": "ZRRSOJeVjEWV"
      },
      "source": [
        "## Building and Training the RNN"
      ]
    },
    {
      "cell_type": "markdown",
      "metadata": {
        "id": "k4XV88JMjHXG"
      },
      "source": [
        "### Importing the Keras libraries and packages"
      ]
    },
    {
      "cell_type": "code",
      "metadata": {
        "id": "XkbeX3tudpE7"
      },
      "source": [
        "from tensorflow.keras.models import Sequential\n",
        "from tensorflow.keras.layers import Dense\n",
        "from tensorflow.keras.layers import LSTM\n",
        "from tensorflow.keras.layers import Dropout\n",
        "\n",
        "regressor = Sequential()\n",
        "regressor.add(LSTM(units=60, return_sequences=True))\n",
        "regressor.add(Dropout(0.2))\n",
        "\n",
        "regressor.add(LSTM(units=60, return_sequences=True))\n",
        "regressor.add(Dropout(0.2))\n",
        "\n",
        "regressor.add(LSTM(units=60, return_sequences=True))\n",
        "regressor.add(Dropout(0.2))\n",
        "\n",
        "regressor.add(LSTM(units=60))\n",
        "regressor.add(Dropout(0.2))\n",
        "\n",
        "regressor.add(Dense(units=1))"
      ],
      "execution_count": 5,
      "outputs": []
    },
    {
      "cell_type": "markdown",
      "metadata": {
        "id": "zLx4K7uUkPSh"
      },
      "source": [
        "### Compiling the RNN"
      ]
    },
    {
      "cell_type": "code",
      "metadata": {
        "id": "EacuOgnAeNwZ"
      },
      "source": [
        "regressor.compile(optimizer='adam', loss='mean_squared_error')"
      ],
      "execution_count": 6,
      "outputs": []
    },
    {
      "cell_type": "markdown",
      "metadata": {
        "id": "-mPhwKGkkebi"
      },
      "source": [
        "### Fitting the RNN to the Training set"
      ]
    },
    {
      "cell_type": "code",
      "metadata": {
        "colab": {
          "base_uri": "https://localhost:8080/"
        },
        "id": "Ueu_CQXgeccP",
        "outputId": "c2dbfd2b-4961-4f23-80b1-a45c59288c06"
      },
      "source": [
        "regressor.fit(enriched_X_train, y_train, batch_size=32, epochs=100)"
      ],
      "execution_count": 7,
      "outputs": [
        {
          "output_type": "stream",
          "text": [
            "Epoch 1/100\n",
            "38/38 [==============================] - 13s 128ms/step - loss: 0.0946\n",
            "Epoch 2/100\n",
            "38/38 [==============================] - 5s 120ms/step - loss: 0.0064\n",
            "Epoch 3/100\n",
            "38/38 [==============================] - 5s 131ms/step - loss: 0.0053\n",
            "Epoch 4/100\n",
            "38/38 [==============================] - 5s 125ms/step - loss: 0.0056\n",
            "Epoch 5/100\n",
            "38/38 [==============================] - 5s 127ms/step - loss: 0.0047\n",
            "Epoch 6/100\n",
            "38/38 [==============================] - 5s 126ms/step - loss: 0.0048\n",
            "Epoch 7/100\n",
            "38/38 [==============================] - 5s 131ms/step - loss: 0.0052\n",
            "Epoch 8/100\n",
            "38/38 [==============================] - 5s 139ms/step - loss: 0.0045\n",
            "Epoch 9/100\n",
            "38/38 [==============================] - 5s 129ms/step - loss: 0.0041\n",
            "Epoch 10/100\n",
            "38/38 [==============================] - 5s 139ms/step - loss: 0.0040\n",
            "Epoch 11/100\n",
            "38/38 [==============================] - 5s 129ms/step - loss: 0.0038\n",
            "Epoch 12/100\n",
            "38/38 [==============================] - 5s 137ms/step - loss: 0.0045\n",
            "Epoch 13/100\n",
            "38/38 [==============================] - 5s 138ms/step - loss: 0.0042\n",
            "Epoch 14/100\n",
            "38/38 [==============================] - 5s 128ms/step - loss: 0.0034\n",
            "Epoch 15/100\n",
            "38/38 [==============================] - 5s 125ms/step - loss: 0.0047\n",
            "Epoch 16/100\n",
            "38/38 [==============================] - 5s 128ms/step - loss: 0.0031\n",
            "Epoch 17/100\n",
            "38/38 [==============================] - 5s 126ms/step - loss: 0.0036\n",
            "Epoch 18/100\n",
            "38/38 [==============================] - 5s 125ms/step - loss: 0.0030\n",
            "Epoch 19/100\n",
            "38/38 [==============================] - 5s 130ms/step - loss: 0.0032\n",
            "Epoch 20/100\n",
            "38/38 [==============================] - 5s 135ms/step - loss: 0.0035\n",
            "Epoch 21/100\n",
            "38/38 [==============================] - 5s 134ms/step - loss: 0.0030\n",
            "Epoch 22/100\n",
            "38/38 [==============================] - 5s 138ms/step - loss: 0.0033\n",
            "Epoch 23/100\n",
            "38/38 [==============================] - 5s 140ms/step - loss: 0.0043\n",
            "Epoch 24/100\n",
            "38/38 [==============================] - 5s 135ms/step - loss: 0.0032\n",
            "Epoch 25/100\n",
            "38/38 [==============================] - 5s 139ms/step - loss: 0.0028\n",
            "Epoch 26/100\n",
            "38/38 [==============================] - 5s 136ms/step - loss: 0.0026\n",
            "Epoch 27/100\n",
            "38/38 [==============================] - 5s 138ms/step - loss: 0.0037\n",
            "Epoch 28/100\n",
            "38/38 [==============================] - 5s 127ms/step - loss: 0.0031\n",
            "Epoch 29/100\n",
            "38/38 [==============================] - 5s 132ms/step - loss: 0.0026\n",
            "Epoch 30/100\n",
            "38/38 [==============================] - 5s 136ms/step - loss: 0.0030\n",
            "Epoch 31/100\n",
            "38/38 [==============================] - 5s 135ms/step - loss: 0.0027\n",
            "Epoch 32/100\n",
            "38/38 [==============================] - 5s 125ms/step - loss: 0.0032\n",
            "Epoch 33/100\n",
            "38/38 [==============================] - 5s 125ms/step - loss: 0.0024\n",
            "Epoch 34/100\n",
            "38/38 [==============================] - 5s 131ms/step - loss: 0.0029\n",
            "Epoch 35/100\n",
            "38/38 [==============================] - 5s 133ms/step - loss: 0.0030\n",
            "Epoch 36/100\n",
            "38/38 [==============================] - 5s 139ms/step - loss: 0.0025\n",
            "Epoch 37/100\n",
            "38/38 [==============================] - 5s 132ms/step - loss: 0.0026\n",
            "Epoch 38/100\n",
            "38/38 [==============================] - 6s 146ms/step - loss: 0.0025\n",
            "Epoch 39/100\n",
            "38/38 [==============================] - 6s 159ms/step - loss: 0.0024\n",
            "Epoch 40/100\n",
            "38/38 [==============================] - 5s 126ms/step - loss: 0.0027\n",
            "Epoch 41/100\n",
            "38/38 [==============================] - 5s 126ms/step - loss: 0.0026\n",
            "Epoch 42/100\n",
            "38/38 [==============================] - 5s 132ms/step - loss: 0.0021\n",
            "Epoch 43/100\n",
            "38/38 [==============================] - 5s 131ms/step - loss: 0.0023\n",
            "Epoch 44/100\n",
            "38/38 [==============================] - 5s 139ms/step - loss: 0.0022\n",
            "Epoch 45/100\n",
            "38/38 [==============================] - 5s 132ms/step - loss: 0.0022\n",
            "Epoch 46/100\n",
            "38/38 [==============================] - 5s 132ms/step - loss: 0.0025\n",
            "Epoch 47/100\n",
            "38/38 [==============================] - 5s 134ms/step - loss: 0.0020\n",
            "Epoch 48/100\n",
            "38/38 [==============================] - 5s 129ms/step - loss: 0.0021\n",
            "Epoch 49/100\n",
            "38/38 [==============================] - 5s 141ms/step - loss: 0.0021\n",
            "Epoch 50/100\n",
            "38/38 [==============================] - 5s 144ms/step - loss: 0.0024\n",
            "Epoch 51/100\n",
            "38/38 [==============================] - 5s 131ms/step - loss: 0.0021\n",
            "Epoch 52/100\n",
            "38/38 [==============================] - 5s 141ms/step - loss: 0.0025\n",
            "Epoch 53/100\n",
            "38/38 [==============================] - 5s 134ms/step - loss: 0.0022\n",
            "Epoch 54/100\n",
            "38/38 [==============================] - 5s 133ms/step - loss: 0.0020\n",
            "Epoch 55/100\n",
            "38/38 [==============================] - 5s 131ms/step - loss: 0.0021\n",
            "Epoch 56/100\n",
            "38/38 [==============================] - 5s 130ms/step - loss: 0.0020\n",
            "Epoch 57/100\n",
            "38/38 [==============================] - 5s 127ms/step - loss: 0.0021\n",
            "Epoch 58/100\n",
            "38/38 [==============================] - 5s 128ms/step - loss: 0.0021\n",
            "Epoch 59/100\n",
            "38/38 [==============================] - 5s 128ms/step - loss: 0.0017\n",
            "Epoch 60/100\n",
            "38/38 [==============================] - 5s 139ms/step - loss: 0.0021\n",
            "Epoch 61/100\n",
            "38/38 [==============================] - 5s 137ms/step - loss: 0.0017\n",
            "Epoch 62/100\n",
            "38/38 [==============================] - 5s 130ms/step - loss: 0.0017\n",
            "Epoch 63/100\n",
            "38/38 [==============================] - 5s 130ms/step - loss: 0.0018\n",
            "Epoch 64/100\n",
            "38/38 [==============================] - 5s 131ms/step - loss: 0.0018\n",
            "Epoch 65/100\n",
            "38/38 [==============================] - 5s 129ms/step - loss: 0.0021\n",
            "Epoch 66/100\n",
            "38/38 [==============================] - 5s 134ms/step - loss: 0.0019\n",
            "Epoch 67/100\n",
            "38/38 [==============================] - 5s 132ms/step - loss: 0.0020\n",
            "Epoch 68/100\n",
            "38/38 [==============================] - 5s 131ms/step - loss: 0.0018\n",
            "Epoch 69/100\n",
            "38/38 [==============================] - 5s 130ms/step - loss: 0.0017\n",
            "Epoch 70/100\n",
            "38/38 [==============================] - 5s 136ms/step - loss: 0.0020\n",
            "Epoch 71/100\n",
            "38/38 [==============================] - 5s 135ms/step - loss: 0.0016\n",
            "Epoch 72/100\n",
            "38/38 [==============================] - 5s 135ms/step - loss: 0.0018\n",
            "Epoch 73/100\n",
            "38/38 [==============================] - 5s 138ms/step - loss: 0.0017\n",
            "Epoch 74/100\n",
            "38/38 [==============================] - 5s 137ms/step - loss: 0.0015\n",
            "Epoch 75/100\n",
            "38/38 [==============================] - 5s 134ms/step - loss: 0.0018\n",
            "Epoch 76/100\n",
            "38/38 [==============================] - 5s 138ms/step - loss: 0.0017\n",
            "Epoch 77/100\n",
            "38/38 [==============================] - 5s 138ms/step - loss: 0.0015\n",
            "Epoch 78/100\n",
            "38/38 [==============================] - 5s 139ms/step - loss: 0.0017\n",
            "Epoch 79/100\n",
            "38/38 [==============================] - 5s 141ms/step - loss: 0.0018\n",
            "Epoch 80/100\n",
            "38/38 [==============================] - 5s 135ms/step - loss: 0.0015\n",
            "Epoch 81/100\n",
            "38/38 [==============================] - 5s 130ms/step - loss: 0.0015\n",
            "Epoch 82/100\n",
            "38/38 [==============================] - 5s 130ms/step - loss: 0.0016\n",
            "Epoch 83/100\n",
            "38/38 [==============================] - 5s 129ms/step - loss: 0.0015\n",
            "Epoch 84/100\n",
            "38/38 [==============================] - 5s 140ms/step - loss: 0.0016\n",
            "Epoch 85/100\n",
            "38/38 [==============================] - 5s 126ms/step - loss: 0.0015\n",
            "Epoch 86/100\n",
            "38/38 [==============================] - 5s 134ms/step - loss: 0.0014\n",
            "Epoch 87/100\n",
            "38/38 [==============================] - 5s 134ms/step - loss: 0.0018\n",
            "Epoch 88/100\n",
            "38/38 [==============================] - 5s 134ms/step - loss: 0.0017\n",
            "Epoch 89/100\n",
            "38/38 [==============================] - 5s 127ms/step - loss: 0.0016\n",
            "Epoch 90/100\n",
            "38/38 [==============================] - 5s 137ms/step - loss: 0.0015\n",
            "Epoch 91/100\n",
            "38/38 [==============================] - 5s 139ms/step - loss: 0.0016\n",
            "Epoch 92/100\n",
            "38/38 [==============================] - 5s 129ms/step - loss: 0.0016\n",
            "Epoch 93/100\n",
            "38/38 [==============================] - 5s 139ms/step - loss: 0.0013\n",
            "Epoch 94/100\n",
            "38/38 [==============================] - 5s 131ms/step - loss: 0.0014\n",
            "Epoch 95/100\n",
            "38/38 [==============================] - 5s 132ms/step - loss: 0.0014\n",
            "Epoch 96/100\n",
            "38/38 [==============================] - 5s 132ms/step - loss: 0.0016\n",
            "Epoch 97/100\n",
            "38/38 [==============================] - 5s 134ms/step - loss: 0.0014\n",
            "Epoch 98/100\n",
            "38/38 [==============================] - 5s 136ms/step - loss: 0.0014\n",
            "Epoch 99/100\n",
            "38/38 [==============================] - 5s 130ms/step - loss: 0.0013\n",
            "Epoch 100/100\n",
            "38/38 [==============================] - 5s 133ms/step - loss: 0.0014\n"
          ],
          "name": "stdout"
        },
        {
          "output_type": "execute_result",
          "data": {
            "text/plain": [
              "<tensorflow.python.keras.callbacks.History at 0x7fbd715bdf90>"
            ]
          },
          "metadata": {
            "tags": []
          },
          "execution_count": 7
        }
      ]
    },
    {
      "cell_type": "markdown",
      "metadata": {
        "id": "4hRau_lIkrE8"
      },
      "source": [
        "## Making the predictions and visualising the results"
      ]
    },
    {
      "cell_type": "markdown",
      "metadata": {
        "id": "SgJO6qEDksxD"
      },
      "source": [
        "### Getting the real stock price of 2017"
      ]
    },
    {
      "cell_type": "code",
      "metadata": {
        "colab": {
          "base_uri": "https://localhost:8080/",
          "height": 206
        },
        "id": "xL3FaY2rSRfA",
        "outputId": "a7e1121a-e1e0-4242-821f-de38d846a9fe"
      },
      "source": [
        "test_df = pd.read_csv(\"Google_Stock_Price_Test.csv\")\n",
        "test_df.head()"
      ],
      "execution_count": 23,
      "outputs": [
        {
          "output_type": "execute_result",
          "data": {
            "text/html": [
              "<div>\n",
              "<style scoped>\n",
              "    .dataframe tbody tr th:only-of-type {\n",
              "        vertical-align: middle;\n",
              "    }\n",
              "\n",
              "    .dataframe tbody tr th {\n",
              "        vertical-align: top;\n",
              "    }\n",
              "\n",
              "    .dataframe thead th {\n",
              "        text-align: right;\n",
              "    }\n",
              "</style>\n",
              "<table border=\"1\" class=\"dataframe\">\n",
              "  <thead>\n",
              "    <tr style=\"text-align: right;\">\n",
              "      <th></th>\n",
              "      <th>Date</th>\n",
              "      <th>Open</th>\n",
              "      <th>High</th>\n",
              "      <th>Low</th>\n",
              "      <th>Close</th>\n",
              "      <th>Volume</th>\n",
              "    </tr>\n",
              "  </thead>\n",
              "  <tbody>\n",
              "    <tr>\n",
              "      <th>0</th>\n",
              "      <td>1/3/2017</td>\n",
              "      <td>778.81</td>\n",
              "      <td>789.63</td>\n",
              "      <td>775.80</td>\n",
              "      <td>786.14</td>\n",
              "      <td>1,657,300</td>\n",
              "    </tr>\n",
              "    <tr>\n",
              "      <th>1</th>\n",
              "      <td>1/4/2017</td>\n",
              "      <td>788.36</td>\n",
              "      <td>791.34</td>\n",
              "      <td>783.16</td>\n",
              "      <td>786.90</td>\n",
              "      <td>1,073,000</td>\n",
              "    </tr>\n",
              "    <tr>\n",
              "      <th>2</th>\n",
              "      <td>1/5/2017</td>\n",
              "      <td>786.08</td>\n",
              "      <td>794.48</td>\n",
              "      <td>785.02</td>\n",
              "      <td>794.02</td>\n",
              "      <td>1,335,200</td>\n",
              "    </tr>\n",
              "    <tr>\n",
              "      <th>3</th>\n",
              "      <td>1/6/2017</td>\n",
              "      <td>795.26</td>\n",
              "      <td>807.90</td>\n",
              "      <td>792.20</td>\n",
              "      <td>806.15</td>\n",
              "      <td>1,640,200</td>\n",
              "    </tr>\n",
              "    <tr>\n",
              "      <th>4</th>\n",
              "      <td>1/9/2017</td>\n",
              "      <td>806.40</td>\n",
              "      <td>809.97</td>\n",
              "      <td>802.83</td>\n",
              "      <td>806.65</td>\n",
              "      <td>1,272,400</td>\n",
              "    </tr>\n",
              "  </tbody>\n",
              "</table>\n",
              "</div>"
            ],
            "text/plain": [
              "       Date    Open    High     Low   Close     Volume\n",
              "0  1/3/2017  778.81  789.63  775.80  786.14  1,657,300\n",
              "1  1/4/2017  788.36  791.34  783.16  786.90  1,073,000\n",
              "2  1/5/2017  786.08  794.48  785.02  794.02  1,335,200\n",
              "3  1/6/2017  795.26  807.90  792.20  806.15  1,640,200\n",
              "4  1/9/2017  806.40  809.97  802.83  806.65  1,272,400"
            ]
          },
          "metadata": {
            "tags": []
          },
          "execution_count": 23
        }
      ]
    },
    {
      "cell_type": "markdown",
      "metadata": {
        "id": "GrvrLblxkz42"
      },
      "source": [
        "### Getting the predicted stock price of 2017"
      ]
    },
    {
      "cell_type": "code",
      "metadata": {
        "id": "fCXGOny1U-mZ"
      },
      "source": [
        "X_test = scaler.transform(test_df['Open'].values.reshape(-1, 1))\n",
        "whole_dataset = np.concatenate([X_train, X_test], axis=0)"
      ],
      "execution_count": 24,
      "outputs": []
    },
    {
      "cell_type": "code",
      "metadata": {
        "id": "rb0VB_QdV6WV"
      },
      "source": [
        "enriched_X_test = []\n",
        "\n",
        "for i in range(len(X_train), len(whole_dataset)):\n",
        "    enriched_X_test.append(whole_dataset[i-60:i])\n",
        "\n",
        "enriched_X_test = np.array(enriched_X_test)"
      ],
      "execution_count": 28,
      "outputs": []
    },
    {
      "cell_type": "code",
      "metadata": {
        "id": "UGQof0ycWjLD"
      },
      "source": [
        "y_pred = scaler.inverse_transform(regressor.predict(enriched_X_test))"
      ],
      "execution_count": 36,
      "outputs": []
    },
    {
      "cell_type": "markdown",
      "metadata": {
        "id": "iFTNs3YHk6FQ"
      },
      "source": [
        "### Visualising the results"
      ]
    },
    {
      "cell_type": "code",
      "metadata": {
        "colab": {
          "base_uri": "https://localhost:8080/",
          "height": 297
        },
        "id": "ZUih2MNxXF4O",
        "outputId": "2c19dc8f-2e6b-432c-e1b8-efa4aff17daa"
      },
      "source": [
        "plt.plot(test_df['Open'], label='True values')\n",
        "plt.plot(y_pred, label='Predicted values')\n",
        "plt.legend()\n",
        "\n",
        "plt.tight_layout()"
      ],
      "execution_count": 43,
      "outputs": [
        {
          "output_type": "display_data",
          "data": {
            "image/png": "[encoded data removed]",
            "text/plain": [
              "<Figure size 432x288 with 1 Axes>"
            ]
          },
          "metadata": {
            "tags": [],
            "needs_background": "light"
          }
        }
      ]
    }
  ]
}