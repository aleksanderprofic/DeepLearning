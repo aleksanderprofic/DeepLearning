{
  "nbformat": 4,
  "nbformat_minor": 0,
  "metadata": {
    "colab": {
      "name": "data_keras_regression",
      "provenance": [],
      "collapsed_sections": [],
      "toc_visible": true,
      "include_colab_link": true
    },
    "kernelspec": {
      "name": "python3",
      "display_name": "Python 3"
    }
  },
  "cells": [
    {
      "cell_type": "markdown",
      "metadata": {
        "id": "view-in-github",
        "colab_type": "text"
      },
      "source": [
        "<a href=\"https://colab.research.google.com/github/aleksanderprofic/DeepLearning/blob/main/Regression/ArtificialNeuralNetworks/Keras/data_keras_regression.ipynb\" target=\"_parent\"><img src=\"https://colab.research.google.com/assets/colab-badge.svg\" alt=\"Open In Colab\"/></a>"
      ]
    },
    {
      "cell_type": "markdown",
      "metadata": {
        "id": "3cbb7fRy-eyr"
      },
      "source": [
        "# Artificial Neural Network"
      ]
    },
    {
      "cell_type": "markdown",
      "metadata": {
        "id": "8sNDnxE2-pwE"
      },
      "source": [
        "### Importing the libraries"
      ]
    },
    {
      "cell_type": "code",
      "metadata": {
        "id": "lxChR1Rk-umf"
      },
      "source": [
        "import numpy as np\n",
        "import pandas as pd\n",
        "import tensorflow as tf"
      ],
      "execution_count": 28,
      "outputs": []
    },
    {
      "cell_type": "code",
      "metadata": {
        "id": "uBTqR3nacj0e",
        "colab": {
          "base_uri": "https://localhost:8080/",
          "height": 36
        },
        "outputId": "d1307220-eb83-4d8c-8d27-758923e4d589"
      },
      "source": [
        "tf.__version__"
      ],
      "execution_count": 29,
      "outputs": [
        {
          "output_type": "execute_result",
          "data": {
            "application/vnd.google.colaboratory.intrinsic+json": {
              "type": "string"
            },
            "text/plain": [
              "'2.4.1'"
            ]
          },
          "metadata": {
            "tags": []
          },
          "execution_count": 29
        }
      ]
    },
    {
      "cell_type": "markdown",
      "metadata": {
        "id": "AG3FQEch-yuA"
      },
      "source": [
        "## Data Preprocessing"
      ]
    },
    {
      "cell_type": "markdown",
      "metadata": {
        "id": "-4zq8Mza_D9O"
      },
      "source": [
        "### Importing the dataset"
      ]
    },
    {
      "cell_type": "code",
      "metadata": {
        "id": "B9CV13Co_HHM",
        "colab": {
          "base_uri": "https://localhost:8080/",
          "height": 206
        },
        "outputId": "34b2c4d4-358d-4b7a-dbe8-2061e70f76a1"
      },
      "source": [
        "dataset = pd.read_excel('Data.xlsx')\n",
        "dataset.head()"
      ],
      "execution_count": 32,
      "outputs": [
        {
          "output_type": "execute_result",
          "data": {
            "text/html": [
              "<div>\n",
              "<style scoped>\n",
              "    .dataframe tbody tr th:only-of-type {\n",
              "        vertical-align: middle;\n",
              "    }\n",
              "\n",
              "    .dataframe tbody tr th {\n",
              "        vertical-align: top;\n",
              "    }\n",
              "\n",
              "    .dataframe thead th {\n",
              "        text-align: right;\n",
              "    }\n",
              "</style>\n",
              "<table border=\"1\" class=\"dataframe\">\n",
              "  <thead>\n",
              "    <tr style=\"text-align: right;\">\n",
              "      <th></th>\n",
              "      <th>AT</th>\n",
              "      <th>V</th>\n",
              "      <th>AP</th>\n",
              "      <th>RH</th>\n",
              "      <th>PE</th>\n",
              "    </tr>\n",
              "  </thead>\n",
              "  <tbody>\n",
              "    <tr>\n",
              "      <th>0</th>\n",
              "      <td>14.96</td>\n",
              "      <td>41.76</td>\n",
              "      <td>1024.07</td>\n",
              "      <td>73.17</td>\n",
              "      <td>463.26</td>\n",
              "    </tr>\n",
              "    <tr>\n",
              "      <th>1</th>\n",
              "      <td>25.18</td>\n",
              "      <td>62.96</td>\n",
              "      <td>1020.04</td>\n",
              "      <td>59.08</td>\n",
              "      <td>444.37</td>\n",
              "    </tr>\n",
              "    <tr>\n",
              "      <th>2</th>\n",
              "      <td>5.11</td>\n",
              "      <td>39.40</td>\n",
              "      <td>1012.16</td>\n",
              "      <td>92.14</td>\n",
              "      <td>488.56</td>\n",
              "    </tr>\n",
              "    <tr>\n",
              "      <th>3</th>\n",
              "      <td>20.86</td>\n",
              "      <td>57.32</td>\n",
              "      <td>1010.24</td>\n",
              "      <td>76.64</td>\n",
              "      <td>446.48</td>\n",
              "    </tr>\n",
              "    <tr>\n",
              "      <th>4</th>\n",
              "      <td>10.82</td>\n",
              "      <td>37.50</td>\n",
              "      <td>1009.23</td>\n",
              "      <td>96.62</td>\n",
              "      <td>473.90</td>\n",
              "    </tr>\n",
              "  </tbody>\n",
              "</table>\n",
              "</div>"
            ],
            "text/plain": [
              "      AT      V       AP     RH      PE\n",
              "0  14.96  41.76  1024.07  73.17  463.26\n",
              "1  25.18  62.96  1020.04  59.08  444.37\n",
              "2   5.11  39.40  1012.16  92.14  488.56\n",
              "3  20.86  57.32  1010.24  76.64  446.48\n",
              "4  10.82  37.50  1009.23  96.62  473.90"
            ]
          },
          "metadata": {
            "tags": []
          },
          "execution_count": 32
        }
      ]
    },
    {
      "cell_type": "code",
      "metadata": {
        "id": "9We0oKUJNuhX"
      },
      "source": [
        "X = dataset.iloc[:, :-1].values\n",
        "y = dataset.iloc[:, -1].values"
      ],
      "execution_count": 33,
      "outputs": []
    },
    {
      "cell_type": "markdown",
      "metadata": {
        "id": "VC6omXel_Up0"
      },
      "source": [
        "### Splitting the dataset into the Training set and Test set"
      ]
    },
    {
      "cell_type": "code",
      "metadata": {
        "id": "L5edeb2r_agx"
      },
      "source": [
        "from sklearn.model_selection import train_test_split\n",
        "X_train, X_test, y_train, y_test = train_test_split(X, y, test_size = 0.2, random_state = 0)"
      ],
      "execution_count": 34,
      "outputs": []
    },
    {
      "cell_type": "markdown",
      "metadata": {
        "id": "-5seDcO4PgVk"
      },
      "source": [
        "### Scaling features"
      ]
    },
    {
      "cell_type": "code",
      "metadata": {
        "id": "XmJOvOQUPfZD"
      },
      "source": [
        "from sklearn.preprocessing import MinMaxScaler\n",
        "\n",
        "scaler = MinMaxScaler()\n",
        "X_train = scaler.fit_transform(X_train)\n",
        "X_test = scaler.transform(X_test)"
      ],
      "execution_count": 35,
      "outputs": []
    },
    {
      "cell_type": "markdown",
      "metadata": {
        "id": "_mSLlAT9_eyI"
      },
      "source": [
        "## Part 2 - Building the ANN"
      ]
    },
    {
      "cell_type": "code",
      "metadata": {
        "id": "J6Hd97Ls__Nz"
      },
      "source": [
        "ann = tf.keras.models.Sequential()\n",
        "ann.add(tf.keras.layers.Dense(units=64, activation='relu'))\n",
        "ann.add(tf.keras.layers.Dense(units=64, activation='relu'))\n",
        "ann.add(tf.keras.layers.Dense(units=1))"
      ],
      "execution_count": 40,
      "outputs": []
    },
    {
      "cell_type": "markdown",
      "metadata": {
        "id": "fq7e4fF6A1yy"
      },
      "source": [
        "## Part 3 - Training the ANN"
      ]
    },
    {
      "cell_type": "markdown",
      "metadata": {
        "id": "qDeylAs2An25"
      },
      "source": [
        "### Compiling the ANN"
      ]
    },
    {
      "cell_type": "code",
      "metadata": {
        "id": "pesgbWlCAtB4"
      },
      "source": [
        "ann.compile(optimizer = 'adam', loss = 'mean_squared_error')"
      ],
      "execution_count": 41,
      "outputs": []
    },
    {
      "cell_type": "markdown",
      "metadata": {
        "id": "YjVuiybYOo7r"
      },
      "source": [
        "### Training the ANN model on the Training set"
      ]
    },
    {
      "cell_type": "code",
      "metadata": {
        "id": "c_vV-tiiA5zn",
        "colab": {
          "base_uri": "https://localhost:8080/"
        },
        "outputId": "007f65f1-3035-41e7-ae2a-f5e7f9562b4a"
      },
      "source": [
        "ann.fit(X_train, y_train, batch_size = 32, epochs = 50)"
      ],
      "execution_count": 42,
      "outputs": [
        {
          "output_type": "stream",
          "text": [
            "Epoch 1/50\n",
            "240/240 [==============================] - 1s 1ms/step - loss: 193704.5877\n",
            "Epoch 2/50\n",
            "240/240 [==============================] - 0s 1ms/step - loss: 16246.9484\n",
            "Epoch 3/50\n",
            "240/240 [==============================] - 0s 1ms/step - loss: 2945.2103\n",
            "Epoch 4/50\n",
            "240/240 [==============================] - 0s 1ms/step - loss: 2334.4752\n",
            "Epoch 5/50\n",
            "240/240 [==============================] - 0s 1ms/step - loss: 1720.0074\n",
            "Epoch 6/50\n",
            "240/240 [==============================] - 0s 1ms/step - loss: 1370.1985\n",
            "Epoch 7/50\n",
            "240/240 [==============================] - 0s 1ms/step - loss: 1197.4526\n",
            "Epoch 8/50\n",
            "240/240 [==============================] - 0s 1ms/step - loss: 1071.3469\n",
            "Epoch 9/50\n",
            "240/240 [==============================] - 0s 1ms/step - loss: 886.8445\n",
            "Epoch 10/50\n",
            "240/240 [==============================] - 0s 1ms/step - loss: 795.3089\n",
            "Epoch 11/50\n",
            "240/240 [==============================] - 0s 1ms/step - loss: 667.0496\n",
            "Epoch 12/50\n",
            "240/240 [==============================] - 0s 1ms/step - loss: 543.8669\n",
            "Epoch 13/50\n",
            "240/240 [==============================] - 0s 1ms/step - loss: 449.3593\n",
            "Epoch 14/50\n",
            "240/240 [==============================] - 0s 1ms/step - loss: 346.6983\n",
            "Epoch 15/50\n",
            "240/240 [==============================] - 0s 1ms/step - loss: 272.4859\n",
            "Epoch 16/50\n",
            "240/240 [==============================] - 0s 1ms/step - loss: 212.4769\n",
            "Epoch 17/50\n",
            "240/240 [==============================] - 0s 1ms/step - loss: 169.6147\n",
            "Epoch 18/50\n",
            "240/240 [==============================] - 0s 1ms/step - loss: 132.2055\n",
            "Epoch 19/50\n",
            "240/240 [==============================] - 0s 1ms/step - loss: 102.3602\n",
            "Epoch 20/50\n",
            "240/240 [==============================] - 0s 1ms/step - loss: 77.4952\n",
            "Epoch 21/50\n",
            "240/240 [==============================] - 0s 1ms/step - loss: 60.7930\n",
            "Epoch 22/50\n",
            "240/240 [==============================] - 0s 1ms/step - loss: 53.6906\n",
            "Epoch 23/50\n",
            "240/240 [==============================] - 0s 1ms/step - loss: 42.3715\n",
            "Epoch 24/50\n",
            "240/240 [==============================] - 0s 1ms/step - loss: 35.8525\n",
            "Epoch 25/50\n",
            "240/240 [==============================] - 0s 1ms/step - loss: 31.9546\n",
            "Epoch 26/50\n",
            "240/240 [==============================] - 0s 1ms/step - loss: 27.1911\n",
            "Epoch 27/50\n",
            "240/240 [==============================] - 0s 1ms/step - loss: 23.2407\n",
            "Epoch 28/50\n",
            "240/240 [==============================] - 0s 1ms/step - loss: 20.6440\n",
            "Epoch 29/50\n",
            "240/240 [==============================] - 0s 1ms/step - loss: 20.7784\n",
            "Epoch 30/50\n",
            "240/240 [==============================] - 0s 1ms/step - loss: 19.7744\n",
            "Epoch 31/50\n",
            "240/240 [==============================] - 0s 1ms/step - loss: 20.9277\n",
            "Epoch 32/50\n",
            "240/240 [==============================] - 0s 1ms/step - loss: 20.8004\n",
            "Epoch 33/50\n",
            "240/240 [==============================] - 0s 1ms/step - loss: 20.3143\n",
            "Epoch 34/50\n",
            "240/240 [==============================] - 0s 1ms/step - loss: 20.2121\n",
            "Epoch 35/50\n",
            "240/240 [==============================] - 0s 1ms/step - loss: 19.8985\n",
            "Epoch 36/50\n",
            "240/240 [==============================] - 0s 1ms/step - loss: 20.1615\n",
            "Epoch 37/50\n",
            "240/240 [==============================] - 0s 1ms/step - loss: 21.1468\n",
            "Epoch 38/50\n",
            "240/240 [==============================] - 0s 1ms/step - loss: 20.1036\n",
            "Epoch 39/50\n",
            "240/240 [==============================] - 0s 1ms/step - loss: 20.9967\n",
            "Epoch 40/50\n",
            "240/240 [==============================] - 0s 1ms/step - loss: 21.0657\n",
            "Epoch 41/50\n",
            "240/240 [==============================] - 0s 1ms/step - loss: 20.1478\n",
            "Epoch 42/50\n",
            "240/240 [==============================] - 0s 1ms/step - loss: 20.7747\n",
            "Epoch 43/50\n",
            "240/240 [==============================] - 0s 1ms/step - loss: 20.1263\n",
            "Epoch 44/50\n",
            "240/240 [==============================] - 0s 1ms/step - loss: 19.3717\n",
            "Epoch 45/50\n",
            "240/240 [==============================] - 0s 1ms/step - loss: 20.5187\n",
            "Epoch 46/50\n",
            "240/240 [==============================] - 0s 1ms/step - loss: 19.0974\n",
            "Epoch 47/50\n",
            "240/240 [==============================] - 0s 1ms/step - loss: 22.4379\n",
            "Epoch 48/50\n",
            "240/240 [==============================] - 0s 1ms/step - loss: 19.6738\n",
            "Epoch 49/50\n",
            "240/240 [==============================] - 0s 1ms/step - loss: 20.1044\n",
            "Epoch 50/50\n",
            "240/240 [==============================] - 0s 1ms/step - loss: 20.3473\n"
          ],
          "name": "stdout"
        },
        {
          "output_type": "execute_result",
          "data": {
            "text/plain": [
              "<tensorflow.python.keras.callbacks.History at 0x7fe4d4b1b7d0>"
            ]
          },
          "metadata": {
            "tags": []
          },
          "execution_count": 42
        }
      ]
    },
    {
      "cell_type": "markdown",
      "metadata": {
        "id": "0H0zKKNEBLD5"
      },
      "source": [
        "### Predicting the results of the Test set"
      ]
    },
    {
      "cell_type": "code",
      "metadata": {
        "id": "IA0yApEmBG1X",
        "colab": {
          "base_uri": "https://localhost:8080/"
        },
        "outputId": "ba7a7031-47bd-4524-eb7c-ac0d54968556"
      },
      "source": [
        "y_pred = ann.predict(X_test)\n",
        "np.set_printoptions(precision=2)\n",
        "print(np.concatenate((y_pred.reshape(len(y_pred),1), y_test.reshape(len(y_test),1)),1))"
      ],
      "execution_count": 43,
      "outputs": [
        {
          "output_type": "stream",
          "text": [
            "[[435.27 431.23]\n",
            " [458.17 460.01]\n",
            " [463.05 461.14]\n",
            " ...\n",
            " [469.6  473.26]\n",
            " [441.24 438.  ]\n",
            " [461.76 463.28]]\n"
          ],
          "name": "stdout"
        }
      ]
    },
    {
      "cell_type": "code",
      "metadata": {
        "colab": {
          "base_uri": "https://localhost:8080/"
        },
        "id": "g4eSfReET3QQ",
        "outputId": "5d9a6619-8a38-496c-acf5-690184741b81"
      },
      "source": [
        "from sklearn.metrics import mean_squared_error\n",
        "\n",
        "print(np.sqrt(mean_squared_error(y_test, y_pred)))"
      ],
      "execution_count": 46,
      "outputs": [
        {
          "output_type": "stream",
          "text": [
            "4.2046694838098695\n"
          ],
          "name": "stdout"
        }
      ]
    }
  ]
}