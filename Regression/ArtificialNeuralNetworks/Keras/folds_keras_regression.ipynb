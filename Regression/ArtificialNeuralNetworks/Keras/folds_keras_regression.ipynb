{
  "nbformat": 4,
  "nbformat_minor": 0,
  "metadata": {
    "colab": {
      "name": "folds_keras_regression",
      "provenance": [],
      "collapsed_sections": [],
      "toc_visible": true,
      "include_colab_link": true
    },
    "kernelspec": {
      "name": "python3",
      "display_name": "Python 3"
    }
  },
  "cells": [
    {
      "cell_type": "markdown",
      "metadata": {
        "id": "view-in-github",
        "colab_type": "text"
      },
      "source": [
        "<a href=\"https://colab.research.google.com/github/aleksanderprofic/DeepLearning/blob/main/folds_keras_regression.ipynb\" target=\"_parent\"><img src=\"https://colab.research.google.com/assets/colab-badge.svg\" alt=\"Open In Colab\"/></a>"
      ]
    },
    {
      "cell_type": "markdown",
      "metadata": {
        "id": "3cbb7fRy-eyr"
      },
      "source": [
        "# Artificial Neural Network"
      ]
    },
    {
      "cell_type": "markdown",
      "metadata": {
        "id": "8sNDnxE2-pwE"
      },
      "source": [
        "### Importing the libraries"
      ]
    },
    {
      "cell_type": "code",
      "metadata": {
        "id": "lxChR1Rk-umf"
      },
      "source": [
        "import numpy as np\n",
        "import pandas as pd\n",
        "import tensorflow as tf"
      ],
      "execution_count": 4,
      "outputs": []
    },
    {
      "cell_type": "code",
      "metadata": {
        "id": "uBTqR3nacj0e",
        "colab": {
          "base_uri": "https://localhost:8080/",
          "height": 36
        },
        "outputId": "72f256c4-2ea8-48b7-9bf8-cb7906220312"
      },
      "source": [
        "tf.__version__"
      ],
      "execution_count": 5,
      "outputs": [
        {
          "output_type": "execute_result",
          "data": {
            "application/vnd.google.colaboratory.intrinsic+json": {
              "type": "string"
            },
            "text/plain": [
              "'2.4.1'"
            ]
          },
          "metadata": {
            "tags": []
          },
          "execution_count": 5
        }
      ]
    },
    {
      "cell_type": "markdown",
      "metadata": {
        "id": "AG3FQEch-yuA"
      },
      "source": [
        "## Part 1 - Data Preprocessing"
      ]
    },
    {
      "cell_type": "markdown",
      "metadata": {
        "id": "-4zq8Mza_D9O"
      },
      "source": [
        "### Importing the dataset"
      ]
    },
    {
      "cell_type": "code",
      "metadata": {
        "id": "B9CV13Co_HHM",
        "colab": {
          "base_uri": "https://localhost:8080/",
          "height": 206
        },
        "outputId": "6791c1c9-dfa5-4098-e916-8bf33d4142a5"
      },
      "source": [
        "dataset = pd.read_excel('Folds5x2_pp.xlsx')\n",
        "dataset.head()"
      ],
      "execution_count": 6,
      "outputs": [
        {
          "output_type": "execute_result",
          "data": {
            "text/html": [
              "<div>\n",
              "<style scoped>\n",
              "    .dataframe tbody tr th:only-of-type {\n",
              "        vertical-align: middle;\n",
              "    }\n",
              "\n",
              "    .dataframe tbody tr th {\n",
              "        vertical-align: top;\n",
              "    }\n",
              "\n",
              "    .dataframe thead th {\n",
              "        text-align: right;\n",
              "    }\n",
              "</style>\n",
              "<table border=\"1\" class=\"dataframe\">\n",
              "  <thead>\n",
              "    <tr style=\"text-align: right;\">\n",
              "      <th></th>\n",
              "      <th>AT</th>\n",
              "      <th>V</th>\n",
              "      <th>AP</th>\n",
              "      <th>RH</th>\n",
              "      <th>PE</th>\n",
              "    </tr>\n",
              "  </thead>\n",
              "  <tbody>\n",
              "    <tr>\n",
              "      <th>0</th>\n",
              "      <td>14.96</td>\n",
              "      <td>41.76</td>\n",
              "      <td>1024.07</td>\n",
              "      <td>73.17</td>\n",
              "      <td>463.26</td>\n",
              "    </tr>\n",
              "    <tr>\n",
              "      <th>1</th>\n",
              "      <td>25.18</td>\n",
              "      <td>62.96</td>\n",
              "      <td>1020.04</td>\n",
              "      <td>59.08</td>\n",
              "      <td>444.37</td>\n",
              "    </tr>\n",
              "    <tr>\n",
              "      <th>2</th>\n",
              "      <td>5.11</td>\n",
              "      <td>39.40</td>\n",
              "      <td>1012.16</td>\n",
              "      <td>92.14</td>\n",
              "      <td>488.56</td>\n",
              "    </tr>\n",
              "    <tr>\n",
              "      <th>3</th>\n",
              "      <td>20.86</td>\n",
              "      <td>57.32</td>\n",
              "      <td>1010.24</td>\n",
              "      <td>76.64</td>\n",
              "      <td>446.48</td>\n",
              "    </tr>\n",
              "    <tr>\n",
              "      <th>4</th>\n",
              "      <td>10.82</td>\n",
              "      <td>37.50</td>\n",
              "      <td>1009.23</td>\n",
              "      <td>96.62</td>\n",
              "      <td>473.90</td>\n",
              "    </tr>\n",
              "  </tbody>\n",
              "</table>\n",
              "</div>"
            ],
            "text/plain": [
              "      AT      V       AP     RH      PE\n",
              "0  14.96  41.76  1024.07  73.17  463.26\n",
              "1  25.18  62.96  1020.04  59.08  444.37\n",
              "2   5.11  39.40  1012.16  92.14  488.56\n",
              "3  20.86  57.32  1010.24  76.64  446.48\n",
              "4  10.82  37.50  1009.23  96.62  473.90"
            ]
          },
          "metadata": {
            "tags": []
          },
          "execution_count": 6
        }
      ]
    },
    {
      "cell_type": "code",
      "metadata": {
        "id": "9We0oKUJNuhX"
      },
      "source": [
        "X = dataset.iloc[:, :-1].values\n",
        "y = dataset.iloc[:, -1].values"
      ],
      "execution_count": 7,
      "outputs": []
    },
    {
      "cell_type": "markdown",
      "metadata": {
        "id": "VC6omXel_Up0"
      },
      "source": [
        "### Splitting the dataset into the Training set and Test set"
      ]
    },
    {
      "cell_type": "code",
      "metadata": {
        "id": "L5edeb2r_agx"
      },
      "source": [
        "from sklearn.model_selection import train_test_split\n",
        "X_train, X_test, y_train, y_test = train_test_split(X, y, test_size = 0.2, random_state = 0)"
      ],
      "execution_count": 8,
      "outputs": []
    },
    {
      "cell_type": "markdown",
      "metadata": {
        "id": "-5seDcO4PgVk"
      },
      "source": [
        "### Scaling features"
      ]
    },
    {
      "cell_type": "code",
      "metadata": {
        "id": "XmJOvOQUPfZD"
      },
      "source": [
        "from sklearn.preprocessing import MinMaxScaler\n",
        "\n",
        "scaler = MinMaxScaler()\n",
        "X_train = scaler.fit_transform(X_train)\n",
        "X_test = scaler.transform(X_test)"
      ],
      "execution_count": 9,
      "outputs": []
    },
    {
      "cell_type": "markdown",
      "metadata": {
        "id": "_mSLlAT9_eyI"
      },
      "source": [
        "## Part 2 - Building the ANN"
      ]
    },
    {
      "cell_type": "code",
      "metadata": {
        "id": "J6Hd97Ls__Nz"
      },
      "source": [
        "ann = tf.keras.models.Sequential()\n",
        "ann.add(tf.keras.layers.Dense(units=64, activation='relu'))\n",
        "ann.add(tf.keras.layers.Dropout(0.2))\n",
        "ann.add(tf.keras.layers.Dense(units=64, activation='relu'))\n",
        "ann.add(tf.keras.layers.Dense(units=1))"
      ],
      "execution_count": 21,
      "outputs": []
    },
    {
      "cell_type": "markdown",
      "metadata": {
        "id": "fq7e4fF6A1yy"
      },
      "source": [
        "## Part 3 - Training the ANN"
      ]
    },
    {
      "cell_type": "markdown",
      "metadata": {
        "id": "qDeylAs2An25"
      },
      "source": [
        "### Compiling the ANN"
      ]
    },
    {
      "cell_type": "code",
      "metadata": {
        "id": "pesgbWlCAtB4"
      },
      "source": [
        "ann.compile(optimizer = 'adam', loss = 'mean_squared_error')"
      ],
      "execution_count": 22,
      "outputs": []
    },
    {
      "cell_type": "markdown",
      "metadata": {
        "id": "YjVuiybYOo7r"
      },
      "source": [
        "### Training the ANN model on the Training set"
      ]
    },
    {
      "cell_type": "code",
      "metadata": {
        "id": "c_vV-tiiA5zn",
        "colab": {
          "base_uri": "https://localhost:8080/"
        },
        "outputId": "9a256b36-6922-44b6-ad07-95476480df49"
      },
      "source": [
        "ann.fit(X_train, y_train, batch_size = 32, epochs = 100)"
      ],
      "execution_count": 23,
      "outputs": [
        {
          "output_type": "stream",
          "text": [
            "Epoch 1/100\n",
            "240/240 [==============================] - 1s 1ms/step - loss: 187897.4033\n",
            "Epoch 2/100\n",
            "240/240 [==============================] - 0s 1ms/step - loss: 5520.7152\n",
            "Epoch 3/100\n",
            "240/240 [==============================] - 0s 1ms/step - loss: 3772.5357\n",
            "Epoch 4/100\n",
            "240/240 [==============================] - 0s 1ms/step - loss: 3132.7602\n",
            "Epoch 5/100\n",
            "240/240 [==============================] - 0s 1ms/step - loss: 2836.6218\n",
            "Epoch 6/100\n",
            "240/240 [==============================] - 0s 1ms/step - loss: 2559.5112\n",
            "Epoch 7/100\n",
            "240/240 [==============================] - 0s 1ms/step - loss: 2326.7057\n",
            "Epoch 8/100\n",
            "240/240 [==============================] - 0s 1ms/step - loss: 2186.5610\n",
            "Epoch 9/100\n",
            "240/240 [==============================] - 0s 1ms/step - loss: 2003.7600\n",
            "Epoch 10/100\n",
            "240/240 [==============================] - 0s 1ms/step - loss: 1958.7220\n",
            "Epoch 11/100\n",
            "240/240 [==============================] - 0s 1ms/step - loss: 1796.5058\n",
            "Epoch 12/100\n",
            "240/240 [==============================] - 0s 1ms/step - loss: 1754.7763\n",
            "Epoch 13/100\n",
            "240/240 [==============================] - 0s 1ms/step - loss: 1626.9162\n",
            "Epoch 14/100\n",
            "240/240 [==============================] - 0s 1ms/step - loss: 1514.4737\n",
            "Epoch 15/100\n",
            "240/240 [==============================] - 0s 1ms/step - loss: 1469.3755\n",
            "Epoch 16/100\n",
            "240/240 [==============================] - 0s 1ms/step - loss: 1298.7117\n",
            "Epoch 17/100\n",
            "240/240 [==============================] - 0s 1ms/step - loss: 1295.9763\n",
            "Epoch 18/100\n",
            "240/240 [==============================] - 0s 1ms/step - loss: 1212.0419\n",
            "Epoch 19/100\n",
            "240/240 [==============================] - 0s 1ms/step - loss: 1157.8884\n",
            "Epoch 20/100\n",
            "240/240 [==============================] - 0s 1ms/step - loss: 1108.1401\n",
            "Epoch 21/100\n",
            "240/240 [==============================] - 0s 1ms/step - loss: 1129.5325\n",
            "Epoch 22/100\n",
            "240/240 [==============================] - 0s 1ms/step - loss: 1081.9901\n",
            "Epoch 23/100\n",
            "240/240 [==============================] - 0s 1ms/step - loss: 1053.7238\n",
            "Epoch 24/100\n",
            "240/240 [==============================] - 0s 1ms/step - loss: 1006.7899\n",
            "Epoch 25/100\n",
            "240/240 [==============================] - 0s 1ms/step - loss: 969.1484\n",
            "Epoch 26/100\n",
            "240/240 [==============================] - 0s 1ms/step - loss: 1004.8139\n",
            "Epoch 27/100\n",
            "240/240 [==============================] - 0s 1ms/step - loss: 978.9191\n",
            "Epoch 28/100\n",
            "240/240 [==============================] - 0s 1ms/step - loss: 955.5717\n",
            "Epoch 29/100\n",
            "240/240 [==============================] - 0s 1ms/step - loss: 933.7756\n",
            "Epoch 30/100\n",
            "240/240 [==============================] - 0s 1ms/step - loss: 957.9799\n",
            "Epoch 31/100\n",
            "240/240 [==============================] - 0s 1ms/step - loss: 895.2546\n",
            "Epoch 32/100\n",
            "240/240 [==============================] - 0s 1ms/step - loss: 904.1032\n",
            "Epoch 33/100\n",
            "240/240 [==============================] - 0s 1ms/step - loss: 886.2029\n",
            "Epoch 34/100\n",
            "240/240 [==============================] - 0s 1ms/step - loss: 901.8183\n",
            "Epoch 35/100\n",
            "240/240 [==============================] - 0s 1ms/step - loss: 813.3738\n",
            "Epoch 36/100\n",
            "240/240 [==============================] - 0s 1ms/step - loss: 827.0004\n",
            "Epoch 37/100\n",
            "240/240 [==============================] - 0s 1ms/step - loss: 823.7426\n",
            "Epoch 38/100\n",
            "240/240 [==============================] - 0s 1ms/step - loss: 854.7876\n",
            "Epoch 39/100\n",
            "240/240 [==============================] - 0s 1ms/step - loss: 783.0299\n",
            "Epoch 40/100\n",
            "240/240 [==============================] - 0s 1ms/step - loss: 810.8482\n",
            "Epoch 41/100\n",
            "240/240 [==============================] - 0s 1ms/step - loss: 821.0832\n",
            "Epoch 42/100\n",
            "240/240 [==============================] - 0s 1ms/step - loss: 786.4145\n",
            "Epoch 43/100\n",
            "240/240 [==============================] - 0s 1ms/step - loss: 764.0811\n",
            "Epoch 44/100\n",
            "240/240 [==============================] - 0s 1ms/step - loss: 743.4303\n",
            "Epoch 45/100\n",
            "240/240 [==============================] - 0s 1ms/step - loss: 743.4042\n",
            "Epoch 46/100\n",
            "240/240 [==============================] - 0s 1ms/step - loss: 758.3062\n",
            "Epoch 47/100\n",
            "240/240 [==============================] - 0s 1ms/step - loss: 701.7251\n",
            "Epoch 48/100\n",
            "240/240 [==============================] - 0s 1ms/step - loss: 687.7252\n",
            "Epoch 49/100\n",
            "240/240 [==============================] - 0s 1ms/step - loss: 687.6470\n",
            "Epoch 50/100\n",
            "240/240 [==============================] - 0s 1ms/step - loss: 665.0726\n",
            "Epoch 51/100\n",
            "240/240 [==============================] - 0s 1ms/step - loss: 672.8977\n",
            "Epoch 52/100\n",
            "240/240 [==============================] - 0s 1ms/step - loss: 671.9455\n",
            "Epoch 53/100\n",
            "240/240 [==============================] - 0s 1ms/step - loss: 626.3976\n",
            "Epoch 54/100\n",
            "240/240 [==============================] - 0s 1ms/step - loss: 619.3310\n",
            "Epoch 55/100\n",
            "240/240 [==============================] - 0s 1ms/step - loss: 610.0634\n",
            "Epoch 56/100\n",
            "240/240 [==============================] - 0s 1ms/step - loss: 587.9581\n",
            "Epoch 57/100\n",
            "240/240 [==============================] - 0s 1ms/step - loss: 572.9127\n",
            "Epoch 58/100\n",
            "240/240 [==============================] - 0s 1ms/step - loss: 543.0355\n",
            "Epoch 59/100\n",
            "240/240 [==============================] - 0s 1ms/step - loss: 530.2600\n",
            "Epoch 60/100\n",
            "240/240 [==============================] - 0s 1ms/step - loss: 507.8652\n",
            "Epoch 61/100\n",
            "240/240 [==============================] - 0s 1ms/step - loss: 490.0670\n",
            "Epoch 62/100\n",
            "240/240 [==============================] - 0s 1ms/step - loss: 474.7579\n",
            "Epoch 63/100\n",
            "240/240 [==============================] - 0s 1ms/step - loss: 471.3175\n",
            "Epoch 64/100\n",
            "240/240 [==============================] - 0s 1ms/step - loss: 452.3377\n",
            "Epoch 65/100\n",
            "240/240 [==============================] - 0s 1ms/step - loss: 406.1230\n",
            "Epoch 66/100\n",
            "240/240 [==============================] - 0s 1ms/step - loss: 401.6766\n",
            "Epoch 67/100\n",
            "240/240 [==============================] - 0s 1ms/step - loss: 389.8240\n",
            "Epoch 68/100\n",
            "240/240 [==============================] - 0s 1ms/step - loss: 385.3153\n",
            "Epoch 69/100\n",
            "240/240 [==============================] - 0s 1ms/step - loss: 345.5470\n",
            "Epoch 70/100\n",
            "240/240 [==============================] - 0s 1ms/step - loss: 326.2326\n",
            "Epoch 71/100\n",
            "240/240 [==============================] - 0s 1ms/step - loss: 314.2468\n",
            "Epoch 72/100\n",
            "240/240 [==============================] - 0s 1ms/step - loss: 295.8789\n",
            "Epoch 73/100\n",
            "240/240 [==============================] - 0s 1ms/step - loss: 279.7696\n",
            "Epoch 74/100\n",
            "240/240 [==============================] - 0s 1ms/step - loss: 263.6003\n",
            "Epoch 75/100\n",
            "240/240 [==============================] - 0s 1ms/step - loss: 236.3803\n",
            "Epoch 76/100\n",
            "240/240 [==============================] - 0s 1ms/step - loss: 216.8465\n",
            "Epoch 77/100\n",
            "240/240 [==============================] - 0s 1ms/step - loss: 206.7712\n",
            "Epoch 78/100\n",
            "240/240 [==============================] - 0s 1ms/step - loss: 182.4909\n",
            "Epoch 79/100\n",
            "240/240 [==============================] - 0s 1ms/step - loss: 160.6574\n",
            "Epoch 80/100\n",
            "240/240 [==============================] - 0s 1ms/step - loss: 149.9871\n",
            "Epoch 81/100\n",
            "240/240 [==============================] - 0s 1ms/step - loss: 132.1997\n",
            "Epoch 82/100\n",
            "240/240 [==============================] - 0s 1ms/step - loss: 124.0121\n",
            "Epoch 83/100\n",
            "240/240 [==============================] - 0s 1ms/step - loss: 110.1246\n",
            "Epoch 84/100\n",
            "240/240 [==============================] - 0s 1ms/step - loss: 94.3309\n",
            "Epoch 85/100\n",
            "240/240 [==============================] - 0s 1ms/step - loss: 86.3612\n",
            "Epoch 86/100\n",
            "240/240 [==============================] - 0s 1ms/step - loss: 74.2261\n",
            "Epoch 87/100\n",
            "240/240 [==============================] - 0s 1ms/step - loss: 67.9976\n",
            "Epoch 88/100\n",
            "240/240 [==============================] - 0s 1ms/step - loss: 57.0492\n",
            "Epoch 89/100\n",
            "240/240 [==============================] - 0s 1ms/step - loss: 50.1454\n",
            "Epoch 90/100\n",
            "240/240 [==============================] - 0s 1ms/step - loss: 43.6701\n",
            "Epoch 91/100\n",
            "240/240 [==============================] - 0s 1ms/step - loss: 42.1969\n",
            "Epoch 92/100\n",
            "240/240 [==============================] - 0s 1ms/step - loss: 36.3486\n",
            "Epoch 93/100\n",
            "240/240 [==============================] - 0s 1ms/step - loss: 32.0843\n",
            "Epoch 94/100\n",
            "240/240 [==============================] - 0s 1ms/step - loss: 29.0424\n",
            "Epoch 95/100\n",
            "240/240 [==============================] - 0s 1ms/step - loss: 26.7146\n",
            "Epoch 96/100\n",
            "240/240 [==============================] - 0s 1ms/step - loss: 25.3235\n",
            "Epoch 97/100\n",
            "240/240 [==============================] - 0s 1ms/step - loss: 23.5843\n",
            "Epoch 98/100\n",
            "240/240 [==============================] - 0s 1ms/step - loss: 22.7977\n",
            "Epoch 99/100\n",
            "240/240 [==============================] - 0s 1ms/step - loss: 24.7493\n",
            "Epoch 100/100\n",
            "240/240 [==============================] - 0s 1ms/step - loss: 24.7702\n"
          ],
          "name": "stdout"
        },
        {
          "output_type": "execute_result",
          "data": {
            "text/plain": [
              "<tensorflow.python.keras.callbacks.History at 0x7fe4c3bc9990>"
            ]
          },
          "metadata": {
            "tags": []
          },
          "execution_count": 23
        }
      ]
    },
    {
      "cell_type": "markdown",
      "metadata": {
        "id": "0H0zKKNEBLD5"
      },
      "source": [
        "### Predicting the results of the Test set"
      ]
    },
    {
      "cell_type": "code",
      "metadata": {
        "id": "IA0yApEmBG1X",
        "colab": {
          "base_uri": "https://localhost:8080/"
        },
        "outputId": "21996475-036e-4242-ab64-36413b7e4e54"
      },
      "source": [
        "y_pred = ann.predict(X_test)\n",
        "np.set_printoptions(precision=2)\n",
        "print(np.concatenate((y_pred.reshape(len(y_pred),1), y_test.reshape(len(y_test),1)),1))"
      ],
      "execution_count": 13,
      "outputs": [
        {
          "output_type": "stream",
          "text": [
            "[[436.42 431.23]\n",
            " [460.12 460.01]\n",
            " [464.6  461.14]\n",
            " ...\n",
            " [471.22 473.26]\n",
            " [443.31 438.  ]\n",
            " [463.15 463.28]]\n"
          ],
          "name": "stdout"
        }
      ]
    }
  ]
}
